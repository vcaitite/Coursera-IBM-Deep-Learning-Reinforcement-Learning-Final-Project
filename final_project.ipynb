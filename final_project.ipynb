{
 "cells": [
  {
   "cell_type": "markdown",
   "id": "5c108b4e",
   "metadata": {},
   "source": [
    "# Final Project\n",
    "\n",
    "\n",
    "Author: Vítor Gabriel Reis Caitité\n",
    "\n",
    "Project available in: github"
   ]
  },
  {
   "cell_type": "markdown",
   "id": "d8eaf71b",
   "metadata": {},
   "source": [
    "## Objectives\n",
    "\n",
    "The objective of this work is to apply neural network models studied during the course\n",
    "to a practical problem regarding an available dataset\n",
    "publicly and involving recognition of the type of breast tumor (malignant\n",
    "or benign). The database was built by the University of Wisconsin Hospitals, Madison\n",
    "of Dr. William H. Wolberg [1]."
   ]
  },
  {
   "cell_type": "markdown",
   "id": "cc5b0571",
   "metadata": {},
   "source": [
    "## About Data\n",
    "\n",
    "Basically the file containing the data contains 1 column of Id (just a identifier) followed by 9 columns containing the input vectors x, and finally, one\n",
    "last column containing the classification of the tumor corresponding to the y label of that\n",
    "sample. This dataset contains 699 samples. The table below shows the organization of the dataset.\n",
    "\n",
    "\n",
    "\n",
    "          Attribute                     Domain\n",
    "   -- -----------------------------------------\n",
    "       1. Sample code number            id number\n",
    "       2. Clump Thickness               1 - 10\n",
    "       3. Uniformity of Cell Size       1 - 10\n",
    "       4. Uniformity of Cell Shape      1 - 10\n",
    "       5. Marginal Adhesion             1 - 10\n",
    "       6. Single Epithelial Cell Size   1 - 10\n",
    "       7. Bare Nuclei                   1 - 10\n",
    "       8. Bland Chromatin               1 - 10\n",
    "       9. Normal Nucleoli               1 - 10\n",
    "      10. Mitoses                       1 - 10\n",
    "      11. Class:                        benign or malignant"
   ]
  },
  {
   "cell_type": "markdown",
   "id": "75990a64",
   "metadata": {},
   "source": [
    "### Importing Packages and Reading Data:"
   ]
  },
  {
   "cell_type": "code",
   "execution_count": 85,
   "id": "4809b578",
   "metadata": {},
   "outputs": [],
   "source": [
    "import warnings\n",
    "warnings.filterwarnings(\"ignore\")\n",
    "import numpy as np\n",
    "import pandas as pd\n",
    "import matplotlib.pyplot as plt\n",
    "import seaborn as sns\n",
    "from sklearn.model_selection import train_test_split\n",
    "from sklearn.preprocessing import StandardScaler\n",
    "from sklearn.metrics import confusion_matrix, classification_report, precision_recall_curve, roc_auc_score, roc_curve, accuracy_score\n",
    "from sklearn.ensemble import RandomForestClassifier\n",
    "from sklearn.metrics import plot_confusion_matrix\n",
    "\n",
    "## Import Keras objects for Deep Learning\n",
    "from keras.models  import Sequential\n",
    "from keras.layers import Input, Dense, Flatten, Dropout, BatchNormalization, LeakyReLU\n",
    "from keras.optimizers import Adam, SGD, RMSprop"
   ]
  },
  {
   "cell_type": "code",
   "execution_count": 10,
   "id": "93c5d8fb",
   "metadata": {},
   "outputs": [
    {
     "name": "stdout",
     "output_type": "stream",
     "text": [
      "(699, 11)\n"
     ]
    },
    {
     "data": {
      "text/html": [
       "<div>\n",
       "<style scoped>\n",
       "    .dataframe tbody tr th:only-of-type {\n",
       "        vertical-align: middle;\n",
       "    }\n",
       "\n",
       "    .dataframe tbody tr th {\n",
       "        vertical-align: top;\n",
       "    }\n",
       "\n",
       "    .dataframe thead th {\n",
       "        text-align: right;\n",
       "    }\n",
       "</style>\n",
       "<table border=\"1\" class=\"dataframe\">\n",
       "  <thead>\n",
       "    <tr style=\"text-align: right;\">\n",
       "      <th></th>\n",
       "      <th>Id</th>\n",
       "      <th>Cl.thickness</th>\n",
       "      <th>Cell.size</th>\n",
       "      <th>Cell.shape</th>\n",
       "      <th>Marg.adhesion</th>\n",
       "      <th>Epith.c.size</th>\n",
       "      <th>Bare.nuclei</th>\n",
       "      <th>Bl.cromatin</th>\n",
       "      <th>Normal.nucleoli</th>\n",
       "      <th>Mitoses</th>\n",
       "      <th>Class</th>\n",
       "    </tr>\n",
       "  </thead>\n",
       "  <tbody>\n",
       "    <tr>\n",
       "      <th>677</th>\n",
       "      <td>1368267</td>\n",
       "      <td>5</td>\n",
       "      <td>1</td>\n",
       "      <td>1</td>\n",
       "      <td>1</td>\n",
       "      <td>2</td>\n",
       "      <td>1.0</td>\n",
       "      <td>1</td>\n",
       "      <td>1</td>\n",
       "      <td>1</td>\n",
       "      <td>benign</td>\n",
       "    </tr>\n",
       "    <tr>\n",
       "      <th>387</th>\n",
       "      <td>1114570</td>\n",
       "      <td>5</td>\n",
       "      <td>3</td>\n",
       "      <td>3</td>\n",
       "      <td>2</td>\n",
       "      <td>3</td>\n",
       "      <td>1.0</td>\n",
       "      <td>3</td>\n",
       "      <td>1</td>\n",
       "      <td>1</td>\n",
       "      <td>benign</td>\n",
       "    </tr>\n",
       "    <tr>\n",
       "      <th>9</th>\n",
       "      <td>1033078</td>\n",
       "      <td>4</td>\n",
       "      <td>2</td>\n",
       "      <td>1</td>\n",
       "      <td>1</td>\n",
       "      <td>2</td>\n",
       "      <td>1.0</td>\n",
       "      <td>2</td>\n",
       "      <td>1</td>\n",
       "      <td>1</td>\n",
       "      <td>benign</td>\n",
       "    </tr>\n",
       "    <tr>\n",
       "      <th>399</th>\n",
       "      <td>1206314</td>\n",
       "      <td>1</td>\n",
       "      <td>2</td>\n",
       "      <td>3</td>\n",
       "      <td>1</td>\n",
       "      <td>2</td>\n",
       "      <td>1.0</td>\n",
       "      <td>1</td>\n",
       "      <td>1</td>\n",
       "      <td>1</td>\n",
       "      <td>benign</td>\n",
       "    </tr>\n",
       "    <tr>\n",
       "      <th>638</th>\n",
       "      <td>1277792</td>\n",
       "      <td>4</td>\n",
       "      <td>1</td>\n",
       "      <td>1</td>\n",
       "      <td>1</td>\n",
       "      <td>2</td>\n",
       "      <td>1.0</td>\n",
       "      <td>1</td>\n",
       "      <td>1</td>\n",
       "      <td>1</td>\n",
       "      <td>benign</td>\n",
       "    </tr>\n",
       "  </tbody>\n",
       "</table>\n",
       "</div>"
      ],
      "text/plain": [
       "          Id  Cl.thickness  Cell.size  Cell.shape  Marg.adhesion  \\\n",
       "677  1368267             5          1           1              1   \n",
       "387  1114570             5          3           3              2   \n",
       "9    1033078             4          2           1              1   \n",
       "399  1206314             1          2           3              1   \n",
       "638  1277792             4          1           1              1   \n",
       "\n",
       "     Epith.c.size  Bare.nuclei  Bl.cromatin  Normal.nucleoli  Mitoses   Class  \n",
       "677             2          1.0            1                1        1  benign  \n",
       "387             3          1.0            3                1        1  benign  \n",
       "9               2          1.0            2                1        1  benign  \n",
       "399             2          1.0            1                1        1  benign  \n",
       "638             2          1.0            1                1        1  benign  "
      ]
     },
     "execution_count": 10,
     "metadata": {},
     "output_type": "execute_result"
    }
   ],
   "source": [
    "path = \"~/Documents/Online courses/Cousera/IBM Deep Learning and Reinforcement Learning/final_project/project/database/BreastCancer.csv\"\n",
    "df = pd.read_csv(path)\n",
    "print(df.shape)\n",
    "df.sample(5)"
   ]
  },
  {
   "cell_type": "markdown",
   "id": "86468a8c",
   "metadata": {},
   "source": [
    "In the table above, it's possible see 5 samples of the dataset and visualize the data organization. And in the Figure below, graphs were plotted considering only 2 dimensions at a time. As can be seen in the graphs, in general the data present a good spatial separation, which initially may indicate that the models will be able to perform a good classification. \n",
    "*This Figure was generated by the author using RStudio.*"
   ]
  },
  {
   "cell_type": "markdown",
   "id": "155885ba",
   "metadata": {},
   "source": [
    "| ![roc.svg](Rplot.png) | \n",
    "|:--:| \n",
    "| Graphs considering 2 dimensions at a time. |\n"
   ]
  },
  {
   "cell_type": "markdown",
   "id": "c464e8a1",
   "metadata": {},
   "source": [
    "## Data Preprocessing"
   ]
  },
  {
   "cell_type": "markdown",
   "id": "3e8530fd",
   "metadata": {},
   "source": [
    "These data need to receive an initial treatment to eliminate missing data, represented\n",
    "by the string NA. In addition, the samples were labeled with a value of 0 (malignant) and 1\n",
    "(benı́gno), and also the column referring to the identifiers was removed."
   ]
  },
  {
   "cell_type": "code",
   "execution_count": 11,
   "id": "f56bfdb1",
   "metadata": {},
   "outputs": [
    {
     "name": "stdout",
     "output_type": "stream",
     "text": [
      "(683, 11)\n"
     ]
    }
   ],
   "source": [
    "df=df.dropna()\n",
    "print(df.shape)"
   ]
  },
  {
   "cell_type": "code",
   "execution_count": 12,
   "id": "d55185f7",
   "metadata": {},
   "outputs": [],
   "source": [
    "mapping = {'benign': 1, 'malignant': 0}\n",
    "df = df.replace({\"Class\": mapping})\n",
    "    "
   ]
  },
  {
   "cell_type": "code",
   "execution_count": 13,
   "id": "c20b34c1",
   "metadata": {},
   "outputs": [
    {
     "data": {
      "text/html": [
       "<div>\n",
       "<style scoped>\n",
       "    .dataframe tbody tr th:only-of-type {\n",
       "        vertical-align: middle;\n",
       "    }\n",
       "\n",
       "    .dataframe tbody tr th {\n",
       "        vertical-align: top;\n",
       "    }\n",
       "\n",
       "    .dataframe thead th {\n",
       "        text-align: right;\n",
       "    }\n",
       "</style>\n",
       "<table border=\"1\" class=\"dataframe\">\n",
       "  <thead>\n",
       "    <tr style=\"text-align: right;\">\n",
       "      <th></th>\n",
       "      <th>Cl.thickness</th>\n",
       "      <th>Cell.size</th>\n",
       "      <th>Cell.shape</th>\n",
       "      <th>Marg.adhesion</th>\n",
       "      <th>Epith.c.size</th>\n",
       "      <th>Bare.nuclei</th>\n",
       "      <th>Bl.cromatin</th>\n",
       "      <th>Normal.nucleoli</th>\n",
       "      <th>Mitoses</th>\n",
       "      <th>Class</th>\n",
       "    </tr>\n",
       "  </thead>\n",
       "  <tbody>\n",
       "    <tr>\n",
       "      <th>97</th>\n",
       "      <td>5</td>\n",
       "      <td>1</td>\n",
       "      <td>1</td>\n",
       "      <td>1</td>\n",
       "      <td>2</td>\n",
       "      <td>1.0</td>\n",
       "      <td>3</td>\n",
       "      <td>1</td>\n",
       "      <td>1</td>\n",
       "      <td>1</td>\n",
       "    </tr>\n",
       "    <tr>\n",
       "      <th>176</th>\n",
       "      <td>2</td>\n",
       "      <td>1</td>\n",
       "      <td>1</td>\n",
       "      <td>1</td>\n",
       "      <td>2</td>\n",
       "      <td>1.0</td>\n",
       "      <td>3</td>\n",
       "      <td>1</td>\n",
       "      <td>1</td>\n",
       "      <td>1</td>\n",
       "    </tr>\n",
       "    <tr>\n",
       "      <th>301</th>\n",
       "      <td>1</td>\n",
       "      <td>1</td>\n",
       "      <td>1</td>\n",
       "      <td>1</td>\n",
       "      <td>2</td>\n",
       "      <td>1.0</td>\n",
       "      <td>3</td>\n",
       "      <td>1</td>\n",
       "      <td>1</td>\n",
       "      <td>1</td>\n",
       "    </tr>\n",
       "    <tr>\n",
       "      <th>409</th>\n",
       "      <td>3</td>\n",
       "      <td>1</td>\n",
       "      <td>2</td>\n",
       "      <td>1</td>\n",
       "      <td>2</td>\n",
       "      <td>1.0</td>\n",
       "      <td>2</td>\n",
       "      <td>1</td>\n",
       "      <td>1</td>\n",
       "      <td>1</td>\n",
       "    </tr>\n",
       "  </tbody>\n",
       "</table>\n",
       "</div>"
      ],
      "text/plain": [
       "     Cl.thickness  Cell.size  Cell.shape  Marg.adhesion  Epith.c.size  \\\n",
       "97              5          1           1              1             2   \n",
       "176             2          1           1              1             2   \n",
       "301             1          1           1              1             2   \n",
       "409             3          1           2              1             2   \n",
       "\n",
       "     Bare.nuclei  Bl.cromatin  Normal.nucleoli  Mitoses  Class  \n",
       "97           1.0            3                1        1      1  \n",
       "176          1.0            3                1        1      1  \n",
       "301          1.0            3                1        1      1  \n",
       "409          1.0            2                1        1      1  "
      ]
     },
     "execution_count": 13,
     "metadata": {},
     "output_type": "execute_result"
    }
   ],
   "source": [
    "del df['Id']\n",
    "df.sample(4)"
   ]
  },
  {
   "cell_type": "markdown",
   "id": "e5d4634f",
   "metadata": {},
   "source": [
    "## Split Data to Train, and Test (75%, 25%)"
   ]
  },
  {
   "cell_type": "code",
   "execution_count": 37,
   "id": "38386c19",
   "metadata": {},
   "outputs": [],
   "source": [
    "X = df.iloc[:, :-1].values\n",
    "y = df[\"Class\"].values\n",
    "X_train, X_test, y_train, y_test = train_test_split(X, y, test_size=0.25, random_state=11111) "
   ]
  },
  {
   "cell_type": "code",
   "execution_count": 21,
   "id": "22691c31",
   "metadata": {},
   "outputs": [
    {
     "name": "stdout",
     "output_type": "stream",
     "text": [
      "Shape of X_train: (512, 9)\n",
      "Shape of X_test: (171, 9)\n",
      "Shape of y_train: (512,)\n",
      "Shape of y_test: (171,)\n"
     ]
    }
   ],
   "source": [
    "print(\"Shape of X_train: \" + str(X_train.shape))\n",
    "print(\"Shape of X_test: \" + str(X_test.shape))\n",
    "print(\"Shape of y_train: \" + str(y_train.shape))\n",
    "print(\"Shape of y_test: \" + str(y_test.shape))"
   ]
  },
  {
   "cell_type": "markdown",
   "id": "9b4cf51d",
   "metadata": {},
   "source": [
    "## Normalizing the data\n",
    "\n",
    "Before start the model part a good practice is normalize the data.\n",
    "This aids the training of neural nets by providing numerical stability."
   ]
  },
  {
   "cell_type": "code",
   "execution_count": 38,
   "id": "bba82866",
   "metadata": {},
   "outputs": [],
   "source": [
    "normalizer = StandardScaler()\n",
    "X_train_norm = normalizer.fit_transform(X_train)\n",
    "X_test_norm = normalizer.transform(X_test)"
   ]
  },
  {
   "cell_type": "markdown",
   "id": "542b6e26",
   "metadata": {},
   "source": [
    "# Model 1"
   ]
  },
  {
   "cell_type": "markdown",
   "id": "16d31977",
   "metadata": {},
   "source": [
    "## Defining the Model\n",
    "I will use the Sequential model to quickly build a neural network. This first network will be a single layer network. We have 9 variables, so we set the input shape to 9. The model defined below has a single hidden layer with 12 nodes with sigmoid activation. As the problem ia a binary classification, the final layer has just one node with a sigmoid activation."
   ]
  },
  {
   "cell_type": "code",
   "execution_count": 99,
   "id": "7d278206",
   "metadata": {},
   "outputs": [],
   "source": [
    "# Define the Model \n",
    "# Input size is 9-dimensional\n",
    "# 1 hidden layer, 12 hidden nodes, sigmoid activation\n",
    "# Final layer has just one node with a sigmoid activation (standard for binary classification)\n",
    "\n",
    "model_1 = Sequential()\n",
    "model_1.add(Dense(12,input_shape = (9,),activation = 'sigmoid'))\n",
    "model_1.add(Dense(1,activation='sigmoid'))"
   ]
  },
  {
   "cell_type": "code",
   "execution_count": 100,
   "id": "d423be6f",
   "metadata": {},
   "outputs": [
    {
     "name": "stdout",
     "output_type": "stream",
     "text": [
      "Model: \"sequential_12\"\n",
      "_________________________________________________________________\n",
      "Layer (type)                 Output Shape              Param #   \n",
      "=================================================================\n",
      "dense_38 (Dense)             (None, 12)                120       \n",
      "_________________________________________________________________\n",
      "dense_39 (Dense)             (None, 1)                 13        \n",
      "=================================================================\n",
      "Total params: 133\n",
      "Trainable params: 133\n",
      "Non-trainable params: 0\n",
      "_________________________________________________________________\n"
     ]
    }
   ],
   "source": [
    "#  This is a nice tool to view the model you have created and count the parameters\n",
    "\n",
    "model_1.summary()"
   ]
  },
  {
   "cell_type": "markdown",
   "id": "259cfe19",
   "metadata": {},
   "source": [
    "## Training and Testing the Model\n",
    "\n",
    "This first model will be trained with the Stochastic Gradient Descent with learning rate equals to 0.003. \n",
    "Others training parameters are:\n",
    "- epochs = 500\n",
    "- batch_size = 32"
   ]
  },
  {
   "cell_type": "code",
   "execution_count": 101,
   "id": "b3619fe5",
   "metadata": {},
   "outputs": [],
   "source": [
    "# Fit(Train) the Model\n",
    "\n",
    "# Compile the model with Optimizer, Loss Function and Metrics\n",
    "# Roc-Auc is not available in Keras as an off the shelf metric yet, so we will skip it here.\n",
    " \n",
    "model_1.compile(SGD(lr = .003), \"binary_crossentropy\", metrics=[\"accuracy\"])\n",
    "run_hist_1 = model_1.fit(X_train_norm, y_train, validation_data=(X_test_norm, y_test), epochs=500, verbose=0)"
   ]
  },
  {
   "cell_type": "code",
   "execution_count": 26,
   "id": "aee82efa",
   "metadata": {},
   "outputs": [],
   "source": [
    "## Like we did for the Random Forest, we generate two kinds of predictions\n",
    "#  One is a hard decision, the other is a probabilitistic score.\n",
    "\n",
    "y_pred_class_nn_1 = model_1.predict_classes(X_test_norm)\n",
    "y_pred_prob_nn_1 = model_1.predict(X_test_norm)"
   ]
  },
  {
   "cell_type": "code",
   "execution_count": 27,
   "id": "34b5bb4d",
   "metadata": {},
   "outputs": [
    {
     "name": "stdout",
     "output_type": "stream",
     "text": [
      "accuracy is 0.977\n",
      "roc-auc is 0.996\n"
     ]
    },
    {
     "data": {
      "image/png": "[encoded data removed]",
      "text/plain": [
       "<Figure size 576x576 with 1 Axes>"
      ]
     },
     "metadata": {
      "needs_background": "light"
     },
     "output_type": "display_data"
    }
   ],
   "source": [
    "def plot_roc(y_test, y_pred, model_name):\n",
    "    fpr, tpr, thr = roc_curve(y_test, y_pred)\n",
    "    fig, ax = plt.subplots(figsize=(8, 8))\n",
    "    ax.plot(fpr, tpr, 'k-')\n",
    "    ax.plot([0, 1], [0, 1], 'k--', linewidth=.5)  # roc curve for random model\n",
    "    ax.grid(True)\n",
    "    ax.set(title='ROC Curve for {} on breast cancer problem'.format(model_name),\n",
    "           xlim=[-0.01, 1.01], ylim=[-0.01, 1.01])\n",
    "\n",
    "# Print model performance and plot the roc curve\n",
    "print('accuracy is {:.3f}'.format(accuracy_score(y_test,y_pred_class_nn_1)))\n",
    "print('roc-auc is {:.3f}'.format(roc_auc_score(y_test,y_pred_prob_nn_1)))\n",
    "\n",
    "plot_roc(y_test, y_pred_prob_nn_1, 'NN')"
   ]
  },
  {
   "cell_type": "code",
   "execution_count": 28,
   "id": "bf3cc0c8",
   "metadata": {},
   "outputs": [
    {
     "data": {
      "text/plain": [
       "Text(0.5, 1.0, 'Accuracy over iterations')"
      ]
     },
     "execution_count": 28,
     "metadata": {},
     "output_type": "execute_result"
    },
    {
     "data": {
      "image/png": "[encoded data removed]",
      "text/plain": [
       "<Figure size 864x432 with 2 Axes>"
      ]
     },
     "metadata": {
      "needs_background": "light"
     },
     "output_type": "display_data"
    }
   ],
   "source": [
    "n = len(run_hist_1.history[\"loss\"])\n",
    "\n",
    "fig = plt.figure(figsize=(12, 6))\n",
    "ax = fig.add_subplot(1, 2, 1)\n",
    "ax.plot(range(n), (run_hist_1.history[\"loss\"]),'r', marker='.', label=\"Train Loss\")\n",
    "ax.plot(range(n), (run_hist_1.history[\"val_loss\"]),'b', marker='.', label=\"Validation Loss\")\n",
    "ax.legend()\n",
    "ax.set_title('Loss over iterations')\n",
    "\n",
    "ax = fig.add_subplot(1, 2, 2)\n",
    "ax.plot(range(n), (run_hist_1.history[\"accuracy\"]),'r', marker='.', label=\"Train Acc\")\n",
    "ax.plot(range(n), (run_hist_1.history[\"val_accuracy\"]),'b',marker='.', label=\"Validation Acc\")\n",
    "ax.legend(loc='lower right')\n",
    "ax.set_title('Accuracy over iterations')"
   ]
  },
  {
   "cell_type": "markdown",
   "id": "c22dc609",
   "metadata": {},
   "source": [
    "Above, the ROC curve and graphs showing the loss and accuracy over iterations were plotted. These last two allow us to observe the evolution of model training over iterations.\n",
    "The Receiver Operating Characteristic curve is created by plotting the true positive rate (TPR) against the false positive rate (FPR) at various threshold settings. In the next Figure you can see an illustration of how to analyze this curve.\n",
    "\n",
    "\n",
    "\n",
    "| ![roc.svg](Roc.png) | \n",
    "|:--:| \n",
    "|  The ROC space for a 'better' and 'worse' classifier. From: *https://en.wikipedia.org/wiki/Receiver_operating_characteristic* |\n",
    "\n",
    "\n",
    "As we can see, the result achieved by the generated ROC curve is very close to the point defined as \"perfect classifier\".\n",
    "\n",
    "\n",
    "The final results obtained by this model were:\n",
    "\n",
    "- accuracy is 0.977\n",
    "- roc-auc is 0.996\n",
    "\n",
    "And the Confusion Matrix of the classification can be seen below:\n"
   ]
  },
  {
   "cell_type": "code",
   "execution_count": 88,
   "id": "649da5a8",
   "metadata": {},
   "outputs": [
    {
     "name": "stdout",
     "output_type": "stream",
     "text": [
      "Confusion Matrix\n",
      "[[ 65   2]\n",
      " [  2 102]]\n",
      "Classification Report\n"
     ]
    }
   ],
   "source": [
    "print('Confusion Matrix')\n",
    "print(confusion_matrix(y_test, y_pred_class_nn_1))\n",
    "print('Classification Report')"
   ]
  },
  {
   "cell_type": "code",
   "execution_count": 87,
   "id": "558d2e36",
   "metadata": {},
   "outputs": [
    {
     "name": "stdout",
     "output_type": "stream",
     "text": [
      "              precision    recall  f1-score   support\n",
      "\n",
      "    Malignat       0.97      0.97      0.97        67\n",
      "      Benign       0.98      0.98      0.98       104\n",
      "\n",
      "    accuracy                           0.98       171\n",
      "   macro avg       0.98      0.98      0.98       171\n",
      "weighted avg       0.98      0.98      0.98       171\n",
      "\n"
     ]
    }
   ],
   "source": [
    "target_names = ['Malignat', 'Benign']\n",
    "print(classification_report(y_test, y_pred_class_nn_1, target_names=target_names))"
   ]
  },
  {
   "cell_type": "markdown",
   "id": "dbb7af70",
   "metadata": {},
   "source": [
    "# Model 2\n"
   ]
  },
  {
   "cell_type": "markdown",
   "id": "8148538d",
   "metadata": {},
   "source": [
    "## Defining the Model\n",
    "\n",
    "Again, I will use the Sequential model to quickly build a neural network. This network will be a two hidden layers network. We have 9 variables, so we set the input shape to 9. The model defined below has 2 hidden layers, each with 7 nodes with ReLU activation. As the problem ia a binary classification, the final layer has just one node with a sigmoid activation."
   ]
  },
  {
   "cell_type": "code",
   "execution_count": 43,
   "id": "87226ff3",
   "metadata": {},
   "outputs": [
    {
     "name": "stdout",
     "output_type": "stream",
     "text": [
      "Model: \"sequential_9\"\n",
      "_________________________________________________________________\n",
      "Layer (type)                 Output Shape              Param #   \n",
      "=================================================================\n",
      "dense_27 (Dense)             (None, 7)                 70        \n",
      "_________________________________________________________________\n",
      "dense_28 (Dense)             (None, 7)                 56        \n",
      "_________________________________________________________________\n",
      "dense_29 (Dense)             (None, 1)                 8         \n",
      "=================================================================\n",
      "Total params: 134\n",
      "Trainable params: 134\n",
      "Non-trainable params: 0\n",
      "_________________________________________________________________\n"
     ]
    }
   ],
   "source": [
    "model_2 = Sequential()\n",
    "model_2.add(Dense(7,input_shape = (9,),activation = 'relu'))\n",
    "model_2.add(Dense(7,activation='relu'))\n",
    "model_2.add(Dense(1,activation='sigmoid'))\n",
    "model_2.summary()"
   ]
  },
  {
   "cell_type": "markdown",
   "id": "de95c22b",
   "metadata": {},
   "source": [
    "## Training and Testing the Model\n",
    "\n",
    "This model will be trained with the Adam optimizer with learning rate equals to 0.003. \n",
    "Others training parameters are:\n",
    "- epochs = 50\n",
    "- batch_size = 32\n"
   ]
  },
  {
   "cell_type": "code",
   "execution_count": 102,
   "id": "d53fec7a",
   "metadata": {},
   "outputs": [],
   "source": [
    "opt = Adam(learning_rate=0.003)\n",
    "model_2.compile(opt, \"binary_crossentropy\", metrics=[\"accuracy\"])\n",
    "run_hist_2 = model_2.fit(X_train_norm, y_train, validation_data=(X_test_norm, y_test), epochs=50, verbose=0)"
   ]
  },
  {
   "cell_type": "code",
   "execution_count": 46,
   "id": "79b09e39",
   "metadata": {},
   "outputs": [
    {
     "data": {
      "text/plain": [
       "Text(0.5, 1.0, 'Accuracy over iterations')"
      ]
     },
     "execution_count": 46,
     "metadata": {},
     "output_type": "execute_result"
    },
    {
     "data": {
      "image/png": "[encoded data removed]",
      "text/plain": [
       "<Figure size 864x432 with 2 Axes>"
      ]
     },
     "metadata": {
      "needs_background": "light"
     },
     "output_type": "display_data"
    }
   ],
   "source": [
    "n = len(run_hist_2.history[\"loss\"])\n",
    "\n",
    "fig = plt.figure(figsize=(12, 6))\n",
    "ax = fig.add_subplot(1, 2, 1)\n",
    "ax.plot(range(n), (run_hist_2.history[\"loss\"]),'r', marker='.', label=\"Train Loss\")\n",
    "ax.plot(range(n), (run_hist_2.history[\"val_loss\"]),'b', marker='.', label=\"Validation Loss\")\n",
    "ax.legend()\n",
    "ax.set_title('Loss over iterations')\n",
    "\n",
    "ax = fig.add_subplot(1, 2, 2)\n",
    "ax.plot(range(n), (run_hist_2.history[\"accuracy\"]),'r', marker='.', label=\"Train Acc\")\n",
    "ax.plot(range(n), (run_hist_2.history[\"val_accuracy\"]),'b',marker='.', label=\"Validation Acc\")\n",
    "ax.legend(loc='lower right')\n",
    "ax.set_title('Accuracy over iterations')"
   ]
  },
  {
   "cell_type": "code",
   "execution_count": 47,
   "id": "199367f6",
   "metadata": {},
   "outputs": [
    {
     "name": "stdout",
     "output_type": "stream",
     "text": [
      "\n",
      "accuracy is 0.982\n",
      "roc-auc is 0.992\n"
     ]
    },
    {
     "data": {
      "image/png": "[encoded data removed]",
      "text/plain": [
       "<Figure size 576x576 with 1 Axes>"
      ]
     },
     "metadata": {
      "needs_background": "light"
     },
     "output_type": "display_data"
    }
   ],
   "source": [
    "y_pred_class_nn_2 = model_2.predict_classes(X_test_norm)\n",
    "y_pred_prob_nn_2 = model_2.predict(X_test_norm)\n",
    "print('')\n",
    "print('accuracy is {:.3f}'.format(accuracy_score(y_test,y_pred_class_nn_2)))\n",
    "print('roc-auc is {:.3f}'.format(roc_auc_score(y_test,y_pred_prob_nn_2)))\n",
    "\n",
    "plot_roc(y_test, y_pred_prob_nn_2, 'NN-2')\n",
    "### END SOLUTION"
   ]
  },
  {
   "cell_type": "markdown",
   "id": "1442d52e",
   "metadata": {},
   "source": [
    "As we can see, with this model we obtained even better results (accuracy equals to 0.982) than the last one."
   ]
  },
  {
   "cell_type": "code",
   "execution_count": 90,
   "id": "80dac118",
   "metadata": {},
   "outputs": [
    {
     "name": "stdout",
     "output_type": "stream",
     "text": [
      "Confusion Matrix\n",
      "[[ 67   0]\n",
      " [  3 101]]\n",
      "Classification Report\n"
     ]
    }
   ],
   "source": [
    "print('Confusion Matrix')\n",
    "print(confusion_matrix(y_test, y_pred_class_nn_2))\n",
    "print('Classification Report')"
   ]
  },
  {
   "cell_type": "code",
   "execution_count": 92,
   "id": "e801378d",
   "metadata": {},
   "outputs": [
    {
     "name": "stdout",
     "output_type": "stream",
     "text": [
      "              precision    recall  f1-score   support\n",
      "\n",
      "    Malignat       0.96      1.00      0.98        67\n",
      "      Benign       1.00      0.97      0.99       104\n",
      "\n",
      "    accuracy                           0.98       171\n",
      "   macro avg       0.98      0.99      0.98       171\n",
      "weighted avg       0.98      0.98      0.98       171\n",
      "\n"
     ]
    }
   ],
   "source": [
    "target_names = ['Malignat', 'Benign']\n",
    "print(classification_report(y_test, y_pred_class_nn_2, target_names=target_names))"
   ]
  },
  {
   "cell_type": "markdown",
   "id": "6cdc1e76",
   "metadata": {},
   "source": [
    "# Model 3"
   ]
  },
  {
   "cell_type": "markdown",
   "id": "e100b1d6",
   "metadata": {},
   "source": [
    "## Defining the model\n",
    "\n",
    "In this last model, we will have a 3 hidden layers network. We have 9 variables, so we set the input shape to 9. \n",
    "The model defined below has 3 hidden layers:\n",
    "- Layer 1: 11 nodes with ReLU activation function.\n",
    "- Layers 2 and 3: 6 nodes with ReLU activation function.\n",
    "\n",
    "As the problem ia a binary classification, the final layer has just one node with a sigmoid activation."
   ]
  },
  {
   "cell_type": "code",
   "execution_count": 53,
   "id": "f177e407",
   "metadata": {},
   "outputs": [
    {
     "name": "stdout",
     "output_type": "stream",
     "text": [
      "Model: \"sequential_11\"\n",
      "_________________________________________________________________\n",
      "Layer (type)                 Output Shape              Param #   \n",
      "=================================================================\n",
      "dense_34 (Dense)             (None, 11)                110       \n",
      "_________________________________________________________________\n",
      "dense_35 (Dense)             (None, 6)                 72        \n",
      "_________________________________________________________________\n",
      "dense_36 (Dense)             (None, 6)                 42        \n",
      "_________________________________________________________________\n",
      "dense_37 (Dense)             (None, 1)                 7         \n",
      "=================================================================\n",
      "Total params: 231\n",
      "Trainable params: 231\n",
      "Non-trainable params: 0\n",
      "_________________________________________________________________\n"
     ]
    }
   ],
   "source": [
    "model_3 = Sequential()\n",
    "model_3.add(Dense(11,input_shape = (9,),activation = 'relu'))\n",
    "model_3.add(Dense(6,activation='relu'))\n",
    "model_3.add(Dense(6,activation='relu'))\n",
    "model_3.add(Dense(1,activation='sigmoid'))\n",
    "model_3.summary()\n"
   ]
  },
  {
   "cell_type": "markdown",
   "id": "80c4d202",
   "metadata": {},
   "source": [
    "## Training and Testing the Model"
   ]
  },
  {
   "cell_type": "code",
   "execution_count": 103,
   "id": "34c31c04",
   "metadata": {},
   "outputs": [],
   "source": [
    "opt = Adam(learning_rate=0.003)\n",
    "model_3.compile(opt, \"binary_crossentropy\", metrics=[\"accuracy\"])\n",
    "run_hist_3 = model_3.fit(X_train_norm, y_train, validation_data=(X_test_norm, y_test), epochs=50, verbose=0)"
   ]
  },
  {
   "cell_type": "code",
   "execution_count": 57,
   "id": "d474bd51",
   "metadata": {},
   "outputs": [
    {
     "data": {
      "text/plain": [
       "Text(0.5, 1.0, 'Accuracy over iterations')"
      ]
     },
     "execution_count": 57,
     "metadata": {},
     "output_type": "execute_result"
    },
    {
     "data": {
      "image/png": "[encoded data removed]",
      "text/plain": [
       "<Figure size 864x432 with 2 Axes>"
      ]
     },
     "metadata": {
      "needs_background": "light"
     },
     "output_type": "display_data"
    }
   ],
   "source": [
    "n = len(run_hist_3.history[\"loss\"])\n",
    "\n",
    "fig = plt.figure(figsize=(12, 6))\n",
    "ax = fig.add_subplot(1, 2, 1)\n",
    "ax.plot(range(n), (run_hist_3.history[\"loss\"]),'r', marker='.', label=\"Train Loss\")\n",
    "ax.plot(range(n), (run_hist_3.history[\"val_loss\"]),'b', marker='.', label=\"Validation Loss\")\n",
    "ax.legend()\n",
    "ax.set_title('Loss over iterations')\n",
    "\n",
    "ax = fig.add_subplot(1, 2, 2)\n",
    "ax.plot(range(n), (run_hist_3.history[\"accuracy\"]),'r', marker='.', label=\"Train Acc\")\n",
    "ax.plot(range(n), (run_hist_3.history[\"val_accuracy\"]),'b',marker='.', label=\"Validation Acc\")\n",
    "ax.legend(loc='lower right')\n",
    "ax.set_title('Accuracy over iterations')"
   ]
  },
  {
   "cell_type": "markdown",
   "id": "55f31309",
   "metadata": {},
   "source": [
    "While the training loss is still going down, it looks like the validation loss has gotten worse. This suggests that our network will not benefit from further training. Also was possible to see that this new network with more layers suffers more of overfitting. "
   ]
  },
  {
   "cell_type": "code",
   "execution_count": 60,
   "id": "a965d5fe",
   "metadata": {},
   "outputs": [
    {
     "name": "stdout",
     "output_type": "stream",
     "text": [
      "\n",
      "accuracy is 0.971\n",
      "roc-auc is 0.991\n"
     ]
    },
    {
     "data": {
      "image/png": "[encoded data removed]",
      "text/plain": [
       "<Figure size 576x576 with 1 Axes>"
      ]
     },
     "metadata": {
      "needs_background": "light"
     },
     "output_type": "display_data"
    }
   ],
   "source": [
    "y_pred_class_nn_3 = model_3.predict_classes(X_test_norm)\n",
    "y_pred_prob_nn_3 = model_3.predict(X_test_norm)\n",
    "print('')\n",
    "print('accuracy is {:.3f}'.format(accuracy_score(y_test,y_pred_class_nn_3)))\n",
    "print('roc-auc is {:.3f}'.format(roc_auc_score(y_test,y_pred_prob_nn_3)))\n",
    "\n",
    "plot_roc(y_test, y_pred_prob_nn_2, 'NN-2')\n"
   ]
  },
  {
   "cell_type": "markdown",
   "id": "aa03b5de",
   "metadata": {},
   "source": [
    "Like the other models, this one also achieved a satisfactory result, with an accuracy of approximately 0.97."
   ]
  },
  {
   "cell_type": "code",
   "execution_count": 91,
   "id": "4ccb0450",
   "metadata": {},
   "outputs": [
    {
     "name": "stdout",
     "output_type": "stream",
     "text": [
      "Confusion Matrix\n",
      "[[ 65   2]\n",
      " [  3 101]]\n",
      "Classification Report\n"
     ]
    }
   ],
   "source": [
    "print('Confusion Matrix')\n",
    "print(confusion_matrix(y_test, y_pred_class_nn_3))\n",
    "print('Classification Report')"
   ]
  },
  {
   "cell_type": "code",
   "execution_count": 93,
   "id": "4f9bbf39",
   "metadata": {},
   "outputs": [
    {
     "name": "stdout",
     "output_type": "stream",
     "text": [
      "              precision    recall  f1-score   support\n",
      "\n",
      "    Malignat       0.96      0.97      0.96        67\n",
      "      Benign       0.98      0.97      0.98       104\n",
      "\n",
      "    accuracy                           0.97       171\n",
      "   macro avg       0.97      0.97      0.97       171\n",
      "weighted avg       0.97      0.97      0.97       171\n",
      "\n"
     ]
    }
   ],
   "source": [
    "target_names = ['Malignat', 'Benign']\n",
    "print(classification_report(y_test, y_pred_class_nn_3, target_names=target_names))"
   ]
  },
  {
   "cell_type": "markdown",
   "id": "451bd1c1",
   "metadata": {},
   "source": [
    "# Get a baseline performance using Random Forest\n",
    "\n",
    "Just to get a baseline for the performance of our last classifiers we will train a Random Forest model with 200 trees on the training data and calculate the accuracy and roc_auc_score of the predictions.."
   ]
  },
  {
   "cell_type": "code",
   "execution_count": 77,
   "id": "57db28ab",
   "metadata": {},
   "outputs": [
    {
     "data": {
      "text/plain": [
       "RandomForestClassifier(n_estimators=200)"
      ]
     },
     "execution_count": 77,
     "metadata": {},
     "output_type": "execute_result"
    }
   ],
   "source": [
    "### BEGIN SOLUTION\n",
    "## Train the RF Model\n",
    "rf_model = RandomForestClassifier(n_estimators=200)\n",
    "rf_model.fit(X_train, y_train)"
   ]
  },
  {
   "cell_type": "code",
   "execution_count": 78,
   "id": "9723c78e",
   "metadata": {},
   "outputs": [
    {
     "name": "stdout",
     "output_type": "stream",
     "text": [
      "accuracy is 0.977\n",
      "roc-auc is 0.990\n"
     ]
    }
   ],
   "source": [
    "# Make predictions on the test set - both \"hard\" predictions, and the scores (percent of trees voting yes)\n",
    "y_pred_class_rf = rf_model.predict(X_test)\n",
    "y_pred_prob_rf = rf_model.predict_proba(X_test)\n",
    "\n",
    "\n",
    "print('accuracy is {:.3f}'.format(accuracy_score(y_test,y_pred_class_rf)))\n",
    "print('roc-auc is {:.3f}'.format(roc_auc_score(y_test,y_pred_prob_rf[:,1])))"
   ]
  },
  {
   "cell_type": "code",
   "execution_count": 76,
   "id": "9fd67f3e",
   "metadata": {},
   "outputs": [
    {
     "data": {
      "image/png": "[encoded data removed]",
      "text/plain": [
       "<Figure size 576x576 with 1 Axes>"
      ]
     },
     "metadata": {
      "needs_background": "light"
     },
     "output_type": "display_data"
    }
   ],
   "source": [
    "plot_roc(y_test, y_pred_prob_rf[:, 1], 'RF')"
   ]
  },
  {
   "cell_type": "markdown",
   "id": "bc9bd1d5",
   "metadata": {},
   "source": [
    "We obtained a result very similar to those achieved using the models based on Neural Networks."
   ]
  },
  {
   "cell_type": "code",
   "execution_count": 96,
   "id": "8a170306",
   "metadata": {},
   "outputs": [
    {
     "data": {
      "text/plain": [
       "<sklearn.metrics._plot.confusion_matrix.ConfusionMatrixDisplay at 0x7f0a984e70f0>"
      ]
     },
     "execution_count": 96,
     "metadata": {},
     "output_type": "execute_result"
    },
    {
     "data": {
      "image/png": "[encoded data removed]",
      "text/plain": [
       "<Figure size 432x288 with 2 Axes>"
      ]
     },
     "metadata": {
      "needs_background": "light"
     },
     "output_type": "display_data"
    }
   ],
   "source": [
    "plot_confusion_matrix(rf_model, X_test, y_test) "
   ]
  },
  {
   "cell_type": "markdown",
   "id": "70dfe705",
   "metadata": {},
   "source": [
    "# References\n",
    "\n",
    "1. William H. Wolberg and O.L. Mangasarian: \"Multisurface method of     pattern separation for medical diagnosis applied to breast cytology\", Proceedings of the National Academy of Sciences, U.S.A., Volume 87,   December 1990, pp 9193-9196."
   ]
  }
 ],
 "metadata": {
  "kernelspec": {
   "display_name": "Python 3",
   "language": "python",
   "name": "python3"
  },
  "language_info": {
   "codemirror_mode": {
    "name": "ipython",
    "version": 3
   },
   "file_extension": ".py",
   "mimetype": "text/x-python",
   "name": "python",
   "nbconvert_exporter": "python",
   "pygments_lexer": "ipython3",
   "version": "3.6.7"
  }
 },
 "nbformat": 4,
 "nbformat_minor": 5
}
